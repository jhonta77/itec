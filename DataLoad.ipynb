{
 "cells": [
  {
   "cell_type": "markdown",
   "id": "e90c1c9e",
   "metadata": {},
   "source": [
    "Acá importamos las librerias que son necesarias para el resto del código. "
   ]
  },
  {
   "cell_type": "code",
   "execution_count": null,
   "id": "ccfb971b",
   "metadata": {},
   "outputs": [],
   "source": [
    "import pandas as pd\n",
    "import numpy as np\n",
    "import streamlit as st\n",
    "import matplotlib.pyplot as plt"
   ]
  },
  {
   "cell_type": "markdown",
   "id": "59ab184a",
   "metadata": {},
   "source": [
    "Invocamos los datos que hemos importado tales como las 'reservas'. 'reporte de ingreso año 2024' y el 'check-in' "
   ]
  },
  {
   "cell_type": "code",
   "execution_count": null,
   "id": "93bb02b0",
   "metadata": {},
   "outputs": [],
   "source": [
    "df = pd.read_csv(r'C:\\Users\\tabo_\\OneDrive\\Desktop\\absolute\\reservas 27032024 27032025.csv', sep=';', skiprows=1, encoding='utf-8')\n",
    "df2 = pd.read_csv(r'C:\\Users\\tabo_\\OneDrive\\Desktop\\absolute\\reporte de ingreso año 2024 a la fecha.csv', sep=';', encoding='latin1')\n",
    "df3 = pd.read_excel(r'C:\\Users\\tabo_\\OneDrive\\Desktop\\absolute\\Check-in del 2024-03-27 al 2025-03-28 bookin.xls', sheet_name='Sheet1', header=0)"
   ]
  },
  {
   "cell_type": "markdown",
   "id": "52eea658",
   "metadata": {},
   "source": [
    "invocamos el DataFrame de 'df'"
   ]
  },
  {
   "cell_type": "code",
   "execution_count": null,
   "id": "8e62ae50",
   "metadata": {},
   "outputs": [],
   "source": [
    "# Elimina los valores nulos para evitar errores\n",
    "genero = df['GÃ©nero'].dropna()\n",
    "\n",
    "# Cuenta cuántos hay de cada género\n",
    "conteo = genero.value_counts()\n",
    "\n",
    "# Calcula el porcentaje\n",
    "porcentaje = genero.value_counts(normalize=True) * 100\n",
    "\n",
    "# Muestra resultados\n",
    "print(\"Conteo por género:\\n\", conteo)\n",
    "print(\"\\nPorcentaje por género:\\n\", porcentaje)\n"
   ]
  },
  {
   "cell_type": "markdown",
   "id": "158747f4",
   "metadata": {},
   "source": [
    "Los datos faltantes (missing_data) que hay en cada columna, osea los datos que la gente no registra. "
   ]
  },
  {
   "cell_type": "code",
   "execution_count": null,
   "id": "6dd94eee",
   "metadata": {},
   "outputs": [],
   "source": [
    "# ...existing code...\n",
    "\n",
    "# Contar los datos faltantes en cada columna\n",
    "missing_data = df.isnull().sum()\n",
    "print(missing_data)\n",
    "\n",
    "# ...existing code..."
   ]
  },
  {
   "cell_type": "markdown",
   "id": "90fb7a98",
   "metadata": {},
   "source": [
    "En este código, buscamos eliminar los datos que no necesitamos cuyos datos faltantes exceden de los 2000 y a su vez los eliminamos de las columnas del DataFrame. "
   ]
  },
  {
   "cell_type": "code",
   "execution_count": null,
   "id": "52627777",
   "metadata": {},
   "outputs": [],
   "source": [
    "# ...existing code...\n",
    "\n",
    "# Contar los datos faltantes en cada columna\n",
    "missing_data = df.isnull().sum()\n",
    "\n",
    "# Definir el umbral de datos faltantes (más de 2000)\n",
    "threshold = 2000\n",
    "\n",
    "# Identificar las columnas que exceden el umbral\n",
    "columns_to_drop = missing_data[missing_data > threshold].index\n",
    "\n",
    "# Eliminar las columnas del DataFrame\n",
    "df = df.drop(columns=columns_to_drop)\n",
    "\n",
    "# Mostrar las columnas eliminadas\n",
    "print(f\"Columnas eliminadas: {list(columns_to_drop)}\")\n",
    "\n",
    "# ...existing code..."
   ]
  },
  {
   "cell_type": "markdown",
   "id": "2e1c546c",
   "metadata": {},
   "source": [
    "La información de los datos que se han llenado en cada columna de los 2467 que se han registrado (entries)"
   ]
  },
  {
   "cell_type": "code",
   "execution_count": null,
   "id": "bf3809ad",
   "metadata": {},
   "outputs": [],
   "source": [
    "df.info()"
   ]
  },
  {
   "cell_type": "code",
   "execution_count": null,
   "id": "d372ee6f",
   "metadata": {},
   "outputs": [],
   "source": [
    "df2"
   ]
  },
  {
   "cell_type": "markdown",
   "id": "dadc6c22",
   "metadata": {},
   "source": [
    "Mostrar la informacion del segundo Data Frame \"info()\""
   ]
  },
  {
   "cell_type": "code",
   "execution_count": null,
   "id": "70fe03af",
   "metadata": {},
   "outputs": [],
   "source": [
    "df2.info()"
   ]
  },
  {
   "cell_type": "markdown",
   "id": "b4f925f1",
   "metadata": {},
   "source": [
    "Contamos los datos que faltan en cada columna y lo mostramos. "
   ]
  },
  {
   "cell_type": "code",
   "execution_count": null,
   "id": "ad82b5a0",
   "metadata": {},
   "outputs": [],
   "source": [
    "# ...existing code...\n",
    "\n",
    "# Contar los datos faltantes en cada columna\n",
    "missing_data = df2.isnull().sum()\n",
    "print(missing_data)\n",
    "\n",
    "# ...existing code..."
   ]
  },
  {
   "cell_type": "markdown",
   "id": "2be4623b",
   "metadata": {},
   "source": [
    "En este codigo se procede a eliminar las columnas de los datos faltantes que se exceden mas de 9000 y se muestra abajo la lista de las columnas eliminadas."
   ]
  },
  {
   "cell_type": "code",
   "execution_count": null,
   "id": "9d97c17c",
   "metadata": {},
   "outputs": [],
   "source": [
    "# ...existing code...\n",
    "\n",
    "# Contar los datos faltantes en cada columna de df2\n",
    "missing_data_df2 = df2.isnull().sum()\n",
    "\n",
    "# Definir el umbral de datos faltantes (más de 9000)\n",
    "threshold_df2 = 9000\n",
    "\n",
    "# Identificar las columnas que exceden el umbral\n",
    "columns_to_drop_df2 = missing_data_df2[missing_data_df2 > threshold_df2].index\n",
    "\n",
    "# Eliminar las columnas del DataFrame df2\n",
    "df2 = df2.drop(columns=columns_to_drop_df2)\n",
    "\n",
    "# Mostrar las columnas eliminadas\n",
    "print(f\"Columnas eliminadas de df2: {list(columns_to_drop_df2)}\")\n",
    "\n",
    "# ...existing code..."
   ]
  },
  {
   "cell_type": "code",
   "execution_count": null,
   "id": "3be6ed7a",
   "metadata": {},
   "outputs": [],
   "source": [
    "df3"
   ]
  },
  {
   "cell_type": "code",
   "execution_count": null,
   "id": "69456b7a",
   "metadata": {},
   "outputs": [],
   "source": [
    "df3.info()"
   ]
  },
  {
   "cell_type": "code",
   "execution_count": null,
   "id": "dbcd8aee",
   "metadata": {},
   "outputs": [],
   "source": [
    "missing_data = df3.isnull().sum()\n",
    "print(missing_data)"
   ]
  },
  {
   "cell_type": "code",
   "execution_count": null,
   "id": "f8faca0d",
   "metadata": {},
   "outputs": [],
   "source": [
    "# ...existing code...\n",
    "\n",
    "# Contar los datos faltantes en cada columna de df3\n",
    "missing_data_df3 = df3.isnull().sum()\n",
    "\n",
    "# Definir el umbral de datos faltantes (más de 2000)\n",
    "threshold_df3 = 2000\n",
    "\n",
    "# Identificar las columnas que exceden el umbral\n",
    "columns_to_drop_df3 = missing_data_df3[missing_data_df3 > threshold_df3].index\n",
    "\n",
    "# Eliminar las columnas del DataFrame df3\n",
    "df3 = df3.drop(columns=columns_to_drop_df3)\n",
    "\n",
    "# Mostrar las columnas eliminadas\n",
    "print(f\"Columnas eliminadas de df3: {list(columns_to_drop_df3)}\")\n",
    "\n",
    "# ...existing code..."
   ]
  },
  {
   "cell_type": "code",
   "execution_count": null,
   "id": "7e7fb0a6",
   "metadata": {},
   "outputs": [],
   "source": [
    "# ...existing code...\n",
    "\n",
    "# Contar la cantidad de registros por cada motivo del viaje\n",
    "motivo_viaje_counts = df3['Motivo del viaje'].value_counts()\n",
    "print(motivo_viaje_counts)\n",
    "\n",
    "# ...existing code..."
   ]
  },
  {
   "cell_type": "code",
   "execution_count": null,
   "id": "b6908ee6",
   "metadata": {},
   "outputs": [],
   "source": [
    "# ...existing code...\n",
    "\n",
    "# Eliminar la columna \"Motivo del viaje\" del DataFrame df3\n",
    "df3 = df3.drop(columns=['Motivo del viaje'])\n",
    "\n",
    "# Mostrar un mensaje confirmando la eliminación\n",
    "print(\"La columna 'Motivo del viaje' ha sido eliminada.\")\n",
    "\n",
    "# ...existing code..."
   ]
  },
  {
   "cell_type": "code",
   "execution_count": null,
   "id": "6208137c",
   "metadata": {},
   "outputs": [],
   "source": [
    "# ...existing code...\n",
    "\n",
    "# Eliminar la columna \"Dispositivo\" del DataFrame df3\n",
    "df3 = df3.drop(columns=['Dispositivo'])\n",
    "\n",
    "# Mostrar un mensaje confirmando la eliminación\n",
    "print(\"La columna 'Dispositivo' ha sido eliminada.\")"
   ]
  },
  {
   "cell_type": "code",
   "execution_count": null,
   "id": "fbc58b6d",
   "metadata": {},
   "outputs": [],
   "source": [
    "df2"
   ]
  },
  {
   "cell_type": "markdown",
   "id": "0401b060",
   "metadata": {},
   "source": [
    "### union de los datos segun el cliente \n",
    "\n"
   ]
  },
  {
   "cell_type": "code",
   "execution_count": null,
   "id": "136d6d7a",
   "metadata": {},
   "outputs": [],
   "source": [
    "\n",
    "import unidecode\n",
    "\n",
    "# Función para limpiar nombres\n",
    "def normalizar(nombre):\n",
    "    if pd.isna(nombre):\n",
    "        return ''\n",
    "    return unidecode.unidecode(str(nombre).lower().strip())\n",
    "\n",
    "# Normalizamos en todos los DF\n",
    "df['nombre_cliente'] = df['Titular'].apply(normalizar)\n",
    "df2['nombre_cliente'] = df2['Cliente'].apply(normalizar)\n",
    "df3['nombre_cliente'] = df3['Nombre del cliente (o clientes)'].apply(normalizar)\n"
   ]
  },
  {
   "cell_type": "code",
   "execution_count": null,
   "id": "d7bbf679",
   "metadata": {},
   "outputs": [],
   "source": [
    "# Unión reservas + consumos (cliente interno)\n",
    "df_completo = pd.merge(df, df2, on='nombre_cliente', how='outer', suffixes=('_reserva', '_consumo'))\n",
    "\n",
    "# Unión con info externa\n",
    "df_completo1 = pd.merge(df_completo, df3, on='nombre_cliente', how='outer', suffixes=('', '_externa'))\n"
   ]
  },
  {
   "cell_type": "code",
   "execution_count": 67,
   "id": "14139401",
   "metadata": {},
   "outputs": [
    {
     "name": "stdout",
     "output_type": "stream",
     "text": [
      "✅ Ingreso mensual promedio por reservas efectivas: $20,057,271.00\n"
     ]
    },
    {
     "name": "stderr",
     "output_type": "stream",
     "text": [
      "C:\\Users\\tabo_\\AppData\\Local\\Temp\\ipykernel_3116\\4272671812.py:8: SettingWithCopyWarning: \n",
      "A value is trying to be set on a copy of a slice from a DataFrame.\n",
      "Try using .loc[row_indexer,col_indexer] = value instead\n",
      "\n",
      "See the caveats in the documentation: https://pandas.pydata.org/pandas-docs/stable/user_guide/indexing.html#returning-a-view-versus-a-copy\n",
      "  df_efectivas['Ingreso'] = pd.to_datetime(df_efectivas['Ingreso'], errors='coerce')\n",
      "C:\\Users\\tabo_\\AppData\\Local\\Temp\\ipykernel_3116\\4272671812.py:11: SettingWithCopyWarning: \n",
      "A value is trying to be set on a copy of a slice from a DataFrame.\n",
      "Try using .loc[row_indexer,col_indexer] = value instead\n",
      "\n",
      "See the caveats in the documentation: https://pandas.pydata.org/pandas-docs/stable/user_guide/indexing.html#returning-a-view-versus-a-copy\n",
      "  df_efectivas['Mes'] = df_efectivas['Ingreso'].dt.to_period('M')\n",
      "C:\\Users\\tabo_\\AppData\\Local\\Temp\\ipykernel_3116\\4272671812.py:14: SettingWithCopyWarning: \n",
      "A value is trying to be set on a copy of a slice from a DataFrame.\n",
      "Try using .loc[row_indexer,col_indexer] = value instead\n",
      "\n",
      "See the caveats in the documentation: https://pandas.pydata.org/pandas-docs/stable/user_guide/indexing.html#returning-a-view-versus-a-copy\n",
      "  df_efectivas['Total alojamiento'] = pd.to_numeric(df_efectivas['Total alojamiento'], errors='coerce')\n"
     ]
    }
   ],
   "source": [
    "\n",
    "\n",
    "# Asegúrate de trabajar sobre una copia del df\n",
    "df = df_completo1.copy()\n",
    "\n",
    "# 1. Filtrar solo reservas efectivas (Estado == 'ok')\n",
    "df_efectivas = df[df['Estado'].str.lower() == 'ok']\n",
    "\n",
    "# 2. Convertir 'Ingreso' a datetime\n",
    "df_efectivas['Ingreso'] = pd.to_datetime(df_efectivas['Ingreso'], errors='coerce')\n",
    "\n",
    "# 3. Crear columna 'Mes'\n",
    "df_efectivas['Mes'] = df_efectivas['Ingreso'].dt.to_period('M')\n",
    "\n",
    "# 4. Asegurarnos de que 'Total alojamiento' esté en formato numérico\n",
    "df_efectivas['Total alojamiento'] = pd.to_numeric(df_efectivas['Total alojamiento'], errors='coerce')\n",
    "\n",
    "# 5. Agrupar por mes y sumar ingresos\n",
    "ingresos_mensuales = df_efectivas.groupby('Mes')['Total alojamiento'].sum()\n",
    "\n",
    "# 6. Calcular el promedio mensual\n",
    "promedio_mensual = ingresos_mensuales.mean()\n",
    "\n",
    "# 7. Mostrar resultado\n",
    "print(\"✅ Ingreso mensual promedio por reservas efectivas: ${:,.2f}\".format(promedio_mensual))\n"
   ]
  },
  {
   "cell_type": "code",
   "execution_count": null,
   "id": "df61bcca",
   "metadata": {},
   "outputs": [],
   "source": [
    "df_completo"
   ]
  },
  {
   "cell_type": "code",
   "execution_count": null,
   "id": "198c352c",
   "metadata": {},
   "outputs": [],
   "source": [
    "\n",
    "\n",
    "# Sacar clientes únicos de cada grupo\n",
    "clientes_durmieron = set(df_completo[df_completo['Titular'].notna()]['nombre_cliente'].dropna().unique())\n",
    "clientes_compraron = set(df_completo[df_completo['Producto'].notna()]['nombre_cliente'].dropna().unique())\n",
    "\n",
    "# Clasificar los grupos\n",
    "solo_durmieron = clientes_durmieron - clientes_compraron\n",
    "solo_compraron = clientes_compraron - clientes_durmieron\n",
    "ambos = clientes_durmieron & clientes_compraron\n",
    "\n",
    "# Contar cuántos hay en cada grupo\n",
    "cuentas = {\n",
    "    'Solo durmieron': len(solo_durmieron),\n",
    "    'Solo compraron': len(solo_compraron),\n",
    "    'Durmieron y compraron': len(ambos)\n",
    "}\n"
   ]
  },
  {
   "cell_type": "markdown",
   "id": "3f5da80f",
   "metadata": {},
   "source": []
  },
  {
   "cell_type": "code",
   "execution_count": null,
   "id": "aa92a9c1",
   "metadata": {},
   "outputs": [],
   "source": [
    "# Graficar\n",
    "%matplotlib inline\n",
    "\n",
    "\n",
    "plt.figure(figsize=(8, 6))\n",
    "plt.bar(cuentas.keys(), cuentas.values(), color=['skyblue', 'salmon', 'lightgreen']) \n",
    "plt.title('Comparación de clientes por actividad en el hotel')\n",
    "plt.ylabel('Cantidad de clientes')\n",
    "plt.xlabel('Categoría de cliente')\n",
    "plt.grid(axis='y', linestyle='--', alpha=0.7)\n",
    "plt.tight_layout()\n",
    "plt.show()\n"
   ]
  }
 ],
 "metadata": {
  "kernelspec": {
   "display_name": "jt2",
   "language": "python",
   "name": "python3"
  },
  "language_info": {
   "codemirror_mode": {
    "name": "ipython",
    "version": 3
   },
   "file_extension": ".py",
   "mimetype": "text/x-python",
   "name": "python",
   "nbconvert_exporter": "python",
   "pygments_lexer": "ipython3",
   "version": "3.13.3"
  }
 },
 "nbformat": 4,
 "nbformat_minor": 5
}
